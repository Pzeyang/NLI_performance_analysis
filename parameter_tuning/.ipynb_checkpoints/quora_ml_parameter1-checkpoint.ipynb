{
 "cells": [
  {
   "cell_type": "code",
   "execution_count": 4,
   "metadata": {
    "colab": {
     "base_uri": "https://localhost:8080/",
     "height": 125
    },
    "colab_type": "code",
    "id": "17Jr8AZKaCIz",
    "outputId": "d101e206-1e24-47ca-dffc-59d1e34584b2"
   },
   "outputs": [
    {
     "name": "stdout",
     "output_type": "stream",
     "text": [
      "Go to this URL in a browser: https://accounts.google.com/o/oauth2/auth?client_id=947318989803-6bn6qk8qdgf4n4g3pfee6491hc0brc4i.apps.googleusercontent.com&redirect_uri=urn%3aietf%3awg%3aoauth%3a2.0%3aoob&response_type=code&scope=email%20https%3a%2f%2fwww.googleapis.com%2fauth%2fdocs.test%20https%3a%2f%2fwww.googleapis.com%2fauth%2fdrive%20https%3a%2f%2fwww.googleapis.com%2fauth%2fdrive.photos.readonly%20https%3a%2f%2fwww.googleapis.com%2fauth%2fpeopleapi.readonly\n",
      "\n",
      "Enter your authorization code:\n",
      "··········\n",
      "Mounted at /content/drive\n"
     ]
    }
   ],
   "source": [
    "from google.colab import drive\n",
    "drive.mount('/content/drive')"
   ]
  },
  {
   "cell_type": "markdown",
   "metadata": {
    "colab_type": "text",
    "id": "zHzecZ-SZ9BY"
   },
   "source": [
    "# Parameter Tuning MSR Paraphrase\n",
    "\n",
    "<p>The best parameters for the machine learning alogorithms for the msr paraphrase data. The following machine learning algorithms models will be tuned:\n",
    "<ul> <li> Logisitc Regression</li>\n",
    "    <li> Support vector classification </li>\n",
    "    <li> Random Forest</li>\n",
    "    <li> XGB Classifier</li>\n",
    "    <li> Adaboost Classifier </li>\n",
    "    <li> Voting Classifier </li>"
   ]
  },
  {
   "cell_type": "code",
   "execution_count": 0,
   "metadata": {
    "colab": {},
    "colab_type": "code",
    "id": "LcqFZxjtZ9Ba"
   },
   "outputs": [],
   "source": [
    "#Loading the required libraries\n",
    "import pandas as pd\n",
    "import numpy as np\n",
    "import numpy\n",
    "import csv\n",
    "import sklearn\n",
    "from sklearn.linear_model import LogisticRegression\n",
    "from sklearn.svm import SVC\n",
    "from sklearn.ensemble import RandomForestClassifier, VotingClassifier, AdaBoostClassifier\n",
    "from sklearn.feature_extraction.text import TfidfVectorizer\n",
    "from xgboost import XGBClassifier\n",
    "from sklearn.model_selection import train_test_split\n",
    "from sklearn.metrics import accuracy_score"
   ]
  },
  {
   "cell_type": "markdown",
   "metadata": {
    "colab_type": "text",
    "id": "yVYZPEF6Z9Bj"
   },
   "source": [
    "<p> Loading the msr paraphrase data. It contains texts which are taken from online news websites"
   ]
  },
  {
   "cell_type": "code",
   "execution_count": 0,
   "metadata": {
    "colab": {},
    "colab_type": "code",
    "id": "pCPxlyMxZ9Bk"
   },
   "outputs": [],
   "source": [
    "# Loading the training data\n",
    "df = pd.read_csv(r'/content/drive/My Drive/train2.csv')"
   ]
  },
  {
   "cell_type": "code",
   "execution_count": 0,
   "metadata": {
    "colab": {},
    "colab_type": "code",
    "id": "xDCVCvFSrugb"
   },
   "outputs": [],
   "source": [
    "df.dropna(inplace=True)"
   ]
  },
  {
   "cell_type": "code",
   "execution_count": 0,
   "metadata": {
    "colab": {},
    "colab_type": "code",
    "id": "-ElAqBsLZ9Br"
   },
   "outputs": [],
   "source": [
    "def gen_accuracy(y_pred, y_actual):\n",
    "    \"\"\"Function to calculate the accuracy of a model, returns the accuracy\n",
    "        Args: \n",
    "            y_pred: predicted values\n",
    "            y_actual: actual values\"\"\"\n",
    "    \n",
    "    count = 0\n",
    "    for i in range(len(y_pred)):\n",
    "        if y_pred[i] == y_actual[i]:\n",
    "            count = count+1\n",
    "    return (count/len(y_pred))*100"
   ]
  },
  {
   "cell_type": "markdown",
   "metadata": {
    "colab_type": "text",
    "id": "FpLaOolHZ9Bx"
   },
   "source": [
    "## Data preprocessing"
   ]
  },
  {
   "cell_type": "markdown",
   "metadata": {
    "colab_type": "text",
    "id": "EAIJHWcGZ9By"
   },
   "source": [
    "<p>"
   ]
  },
  {
   "cell_type": "code",
   "execution_count": 0,
   "metadata": {
    "colab": {},
    "colab_type": "code",
    "id": "KZqmhGnUYfVN"
   },
   "outputs": [],
   "source": [
    "train, test = train_test_split(df)"
   ]
  },
  {
   "cell_type": "code",
   "execution_count": 0,
   "metadata": {
    "colab": {},
    "colab_type": "code",
    "id": "rgyE_tgqZ9Bz"
   },
   "outputs": [],
   "source": [
    "#training and testing\n",
    "sent = list(train['question1']) + list(train['question2']) + list(test['question1']) + list(test['question2'])\n",
    "\n",
    "vectorizer = TfidfVectorizer(\n",
    "    sublinear_tf=True,\n",
    "    strip_accents='unicode',\n",
    "    analyzer='word',\n",
    "    token_pattern=r'\\w{1,}',\n",
    "    ngram_range=(1, 1),\n",
    "    max_features=30000)\n",
    "\n",
    "vectorizer.fit(sent)\n",
    "\n",
    "train_sent = train['question1'] + \" \" + train['question2']\n",
    "test_sent = test['question1']+ \" \" + test['question2']\n",
    "\n",
    "sent_vect_train = vectorizer.transform(train_sent)\n",
    "sent_vect_test = vectorizer.transform(test_sent)"
   ]
  },
  {
   "cell_type": "markdown",
   "metadata": {
    "colab_type": "text",
    "id": "pIu58PycZ9B5"
   },
   "source": [
    "## Machine learning Models"
   ]
  },
  {
   "cell_type": "markdown",
   "metadata": {
    "colab_type": "text",
    "id": "zFWD_1qwZ9B7"
   },
   "source": [
    "### Logistic Regression"
   ]
  },
  {
   "cell_type": "markdown",
   "metadata": {
    "colab_type": "text",
    "id": "pPiUhiiSZ9B8"
   },
   "source": [
    "<p> The parameters that are tested:\n",
    "<ul> <li> solvers </li>\n",
    "    <li> C</li>"
   ]
  },
  {
   "cell_type": "code",
   "execution_count": 0,
   "metadata": {
    "colab": {},
    "colab_type": "code",
    "id": "fkbqbMhXZ9B9"
   },
   "outputs": [],
   "source": [
    "solvers = ['liblinear', 'newton-cg', 'lbfgs', 'sag', 'saga']\n",
    "C = [0.001,0.01,0.1,1,10,100]\n",
    "random_state = 0\n",
    "max_iter = 1000\n",
    "penalty = 'l2'\n",
    "#penality = 'elasticnet'\n",
    "acc_saga = []\n",
    "acc_lgbf = []"
   ]
  },
  {
   "cell_type": "code",
   "execution_count": 0,
   "metadata": {
    "colab": {
     "base_uri": "https://localhost:8080/",
     "height": 167
    },
    "colab_type": "code",
    "id": "qUJhPh98Z9CC",
    "outputId": "5345e019-31e6-40f6-9972-37ef9659b5e4"
   },
   "outputs": [
    {
     "ename": "NameError",
     "evalue": "ignored",
     "output_type": "error",
     "traceback": [
      "\u001b[0;31m---------------------------------------------------------------------------\u001b[0m",
      "\u001b[0;31mNameError\u001b[0m                                 Traceback (most recent call last)",
      "\u001b[0;32m<ipython-input-13-479e2d431403>\u001b[0m in \u001b[0;36m<module>\u001b[0;34m()\u001b[0m\n\u001b[0;32m----> 1\u001b[0;31m \u001b[0mresult_lr\u001b[0m\u001b[0;34m\u001b[0m\u001b[0;34m\u001b[0m\u001b[0m\n\u001b[0m",
      "\u001b[0;31mNameError\u001b[0m: name 'result_lr' is not defined"
     ]
    }
   ],
   "source": [
    "result_lr"
   ]
  },
  {
   "cell_type": "code",
   "execution_count": 0,
   "metadata": {
    "colab": {
     "base_uri": "https://localhost:8080/",
     "height": 298
    },
    "colab_type": "code",
    "id": "Jo_1m9LuZ9CK",
    "outputId": "7eb7d7b4-59f5-44ae-f833-2d2b9814ef13"
   },
   "outputs": [
    {
     "name": "stderr",
     "output_type": "stream",
     "text": [
      "/usr/local/lib/python3.6/dist-packages/sklearn/linear_model/_logistic.py:940: ConvergenceWarning: lbfgs failed to converge (status=1):\n",
      "STOP: TOTAL NO. of ITERATIONS REACHED LIMIT.\n",
      "\n",
      "Increase the number of iterations (max_iter) or scale the data as shown in:\n",
      "    https://scikit-learn.org/stable/modules/preprocessing.html\n",
      "Please also refer to the documentation for alternative solver options:\n",
      "    https://scikit-learn.org/stable/modules/linear_model.html#logistic-regression\n",
      "  extra_warning_msg=_LOGISTIC_SOLVER_CONVERGENCE_MSG)\n",
      "/usr/local/lib/python3.6/dist-packages/sklearn/linear_model/_logistic.py:940: ConvergenceWarning: lbfgs failed to converge (status=1):\n",
      "STOP: TOTAL NO. of ITERATIONS REACHED LIMIT.\n",
      "\n",
      "Increase the number of iterations (max_iter) or scale the data as shown in:\n",
      "    https://scikit-learn.org/stable/modules/preprocessing.html\n",
      "Please also refer to the documentation for alternative solver options:\n",
      "    https://scikit-learn.org/stable/modules/linear_model.html#logistic-regression\n",
      "  extra_warning_msg=_LOGISTIC_SOLVER_CONVERGENCE_MSG)\n"
     ]
    }
   ],
   "source": [
    "#Saga\n",
    "accuracy = {}\n",
    "for solver in solvers:\n",
    "    acc = []\n",
    "    for i in C:\n",
    "        lr = LogisticRegression(penalty = 'l2', \n",
    "                                C =i, \n",
    "                                random_state=random_state,\n",
    "                                max_iter=max_iter, solver = solver)\n",
    "        \n",
    "        lr.fit(sent_vect_train, train['is_duplicate'])\n",
    "    \n",
    "        #lr.fit(sent_vect_train, train['is_duplicate'])\n",
    "        \n",
    "        result_lr = lr.predict(sent_vect_test)\n",
    "        \n",
    "        acc.append(gen_accuracy(result_lr, list(test['is_duplicate'].to_numpy())))\n",
    "        \n",
    "        \n",
    "    accuracy[solver] = acc"
   ]
  },
  {
   "cell_type": "code",
   "execution_count": 0,
   "metadata": {
    "colab": {
     "base_uri": "https://localhost:8080/",
     "height": 545
    },
    "colab_type": "code",
    "id": "m3V_d_XHZ9CR",
    "outputId": "f8e603f2-0115-4aed-8d8f-05433a8563c3"
   },
   "outputs": [
    {
     "data": {
      "text/plain": [
       "{'lbfgs': [63.45080734525883,\n",
       "  70.93952825708406,\n",
       "  74.46572740224791,\n",
       "  76.07646034510053,\n",
       "  76.77299350957733,\n",
       "  76.81751622605667],\n",
       " 'liblinear': [63.469605825550104,\n",
       "  70.94645401298084,\n",
       "  74.46374861484883,\n",
       "  76.07250277030236,\n",
       "  76.76804654107963,\n",
       "  76.80564350166217],\n",
       " 'newton-cg': [63.45080734525883,\n",
       "  70.93754946968498,\n",
       "  74.46275922114928,\n",
       "  76.07843913249961,\n",
       "  76.76606775368055,\n",
       "  76.80663289536173],\n",
       " 'sag': [63.45080734525883,\n",
       "  70.93754946968498,\n",
       "  74.46275922114928,\n",
       "  76.07843913249961,\n",
       "  76.765078359981,\n",
       "  76.80663289536173],\n",
       " 'saga': [63.45080734525883,\n",
       "  70.93754946968498,\n",
       "  74.46275922114928,\n",
       "  76.07744973880006,\n",
       "  76.765078359981,\n",
       "  76.80762228906126]}"
      ]
     },
     "execution_count": 54,
     "metadata": {
      "tags": []
     },
     "output_type": "execute_result"
    }
   ],
   "source": [
    "accuracy"
   ]
  },
  {
   "cell_type": "markdown",
   "metadata": {
    "colab_type": "text",
    "id": "AkApWlmxZ9CW"
   },
   "source": [
    "### Support Vector Classifier"
   ]
  },
  {
   "cell_type": "code",
   "execution_count": 0,
   "metadata": {
    "colab": {},
    "colab_type": "code",
    "id": "fs3HvdY5Z9CX"
   },
   "outputs": [],
   "source": [
    "C = [1,10,100]\n",
    "kernels = ['linear', 'sigmoid']"
   ]
  },
  {
   "cell_type": "code",
   "execution_count": 0,
   "metadata": {
    "colab": {},
    "colab_type": "code",
    "id": "5HTbqrM7Z9Cc"
   },
   "outputs": [],
   "source": [
    "#Saga\n",
    "accuracy = {}\n",
    "for kernel in kernels:\n",
    "    acc = []\n",
    "    for i in C:\n",
    "        svc = SVC(C = i, kernel = kernel )\n",
    "        \n",
    "        svc.fit(sent_vect_train, train['is_duplicate'])\n",
    "        \n",
    "        result_svm = svc.predict(sent_vect_test)\n",
    "        \n",
    "        acc.append(gen_accuracy(result_svm, list(test['is_duplicate'].to_numpy())))\n",
    "        \n",
    "    accuracy[kernel] = acc"
   ]
  },
  {
   "cell_type": "code",
   "execution_count": 0,
   "metadata": {
    "colab": {
     "base_uri": "https://localhost:8080/",
     "height": 52
    },
    "colab_type": "code",
    "id": "EM8Ainz4Z9Cg",
    "outputId": "6b992720-e4ee-4ddb-ac20-b7c7270a7920"
   },
   "outputs": [
    {
     "data": {
      "text/plain": [
       "{'linear': [73.44265573442655, 69.55304469553045, 66.45335466453355],\n",
       " 'sigmoid': [71.25287471252875, 63.51364863513649, 61.44385561443856]}"
      ]
     },
     "execution_count": 20,
     "metadata": {
      "tags": []
     },
     "output_type": "execute_result"
    }
   ],
   "source": [
    "accuracy"
   ]
  },
  {
   "cell_type": "markdown",
   "metadata": {
    "colab_type": "text",
    "id": "hmtTqm7ZZ9Cj"
   },
   "source": [
    "### Random Forest\n",
    "<p> <font size =3> Parameters considered:\n",
    "<ul> <li> n_estimators </li>\n",
    "    <li> max_depth </li>"
   ]
  },
  {
   "cell_type": "code",
   "execution_count": 0,
   "metadata": {
    "colab": {},
    "colab_type": "code",
    "id": "hc-IbZVzZ9Ck"
   },
   "outputs": [],
   "source": [
    "n_estimators = [100, 200, 400, 600]\n",
    "max_depth = [10, 50, 100]"
   ]
  },
  {
   "cell_type": "code",
   "execution_count": 0,
   "metadata": {
    "colab": {},
    "colab_type": "code",
    "id": "GM-cmb32Z9Cn"
   },
   "outputs": [],
   "source": [
    "accuracy = []\n",
    "for depth in max_depth:\n",
    "    acc = []\n",
    "    for i in n_estimators:\n",
    "        rf = RandomForestClassifier(n_estimators=i, \n",
    "                                   bootstrap = True,\n",
    "                                           max_features = 'sqrt',\n",
    "                                    max_depth = depth)\n",
    "        \n",
    "        rf.fit(sent_vect_train, train['is_duplicate'])\n",
    "        \n",
    "        result_rf = rf.predict(sent_vect_test)\n",
    "        \n",
    "        acc.append(gen_accuracy(result_rf, list(test['is_duplicate'].to_numpy())))\n",
    "        \n",
    "    accuracy.append(acc)"
   ]
  },
  {
   "cell_type": "code",
   "execution_count": 0,
   "metadata": {
    "colab": {
     "base_uri": "https://localhost:8080/",
     "height": 70
    },
    "colab_type": "code",
    "id": "YYXB08EZZ9Cq",
    "outputId": "5dcadc96-a07c-41d4-ee2d-b852e09c2277"
   },
   "outputs": [
    {
     "data": {
      "text/plain": [
       "[[63.802042108595856, 63.45278613265791, 63.8079784707931, 63.670452746556904],\n",
       " [72.95393382934937, 72.92029444356498, 73.07661864809245, 73.1528019629571],\n",
       " [77.97015988602185, 78.05920531898053, 78.14330378344151, 78.15616590153553]]"
      ]
     },
     "execution_count": 10,
     "metadata": {
      "tags": []
     },
     "output_type": "execute_result"
    }
   ],
   "source": [
    "accuracy"
   ]
  },
  {
   "cell_type": "markdown",
   "metadata": {
    "colab_type": "text",
    "id": "2tUWqMcSZ9Ct"
   },
   "source": [
    "### XGB"
   ]
  },
  {
   "cell_type": "code",
   "execution_count": 0,
   "metadata": {
    "colab": {},
    "colab_type": "code",
    "id": "yQdPhv3CZ9Cu"
   },
   "outputs": [],
   "source": [
    "learning_rate = [.0001, .001, .01, .1]\n",
    "drop_out = ['l2', 'l1-l2', 'l1']\n",
    "\n",
    "#learning_rate    = [0.05, 0.10, 0.15, 0.20, 0.25, 0.30, .001, .01, 1 ]\n",
    "max_depth        = [ 3, 4, 5, 6, 8, 10, 12, 15]\n",
    "min_child_weight = [ 1, 3, 5, 7 ]\n",
    "gamma            = [ 0.0, 0.1, 0.2 , 0.3, 0.4 ]\n",
    "colsample_bytree = [ 0.3, 0.4, 0.5 , 0.7 ]\n",
    "n_estimators = [100, 200, 300, 400]"
   ]
  },
  {
   "cell_type": "code",
   "execution_count": 0,
   "metadata": {
    "colab": {},
    "colab_type": "code",
    "id": "I7FPw8hWZ9Cx"
   },
   "outputs": [],
   "source": [
    "accuracy =[]\n",
    "for i in n_estimators:\n",
    "    acc = []\n",
    "    for j in learning_rate: \n",
    "        xgb = XGBClassifier(n_estimators=i, \n",
    "                               bootstrap = True,\n",
    "                               max_features = 'sqrt',\n",
    "                               max_depth = 3,\n",
    "                               learning_rate = j)\n",
    "\n",
    "        xgb.fit(sent_vect_train, train['is_duplicate'])\n",
    "\n",
    "        result_xgb = xgb.predict(sent_vect_test)\n",
    "\n",
    "        acc.append(gen_accuracy(result_xgb, list(test['is_duplicate'].to_numpy())))\n",
    "    accuracy.append(acc)"
   ]
  },
  {
   "cell_type": "code",
   "execution_count": 0,
   "metadata": {
    "colab": {
     "base_uri": "https://localhost:8080/",
     "height": 87
    },
    "colab_type": "code",
    "id": "9UTavrMtQrdt",
    "outputId": "4fff9553-7884-4939-b73d-f297ae6e9c87"
   },
   "outputs": [
    {
     "data": {
      "text/plain": [
       "[[64.59157828082951, 64.45603134399241, 65.21786449263891, 70.77331011556119],\n",
       " [64.59157828082951, 64.39073135982271, 65.91142947601709, 72.37315972771884],\n",
       " [64.59454646192813, 64.64104796580655, 66.85728985277821, 73.3002216241887],\n",
       " [64.45998891879057, 64.7291040050657, 67.8674608200095, 73.84537755263575]]"
      ]
     },
     "execution_count": 11,
     "metadata": {
      "tags": []
     },
     "output_type": "execute_result"
    }
   ],
   "source": [
    "accuracy"
   ]
  },
  {
   "cell_type": "code",
   "execution_count": 0,
   "metadata": {
    "colab": {},
    "colab_type": "code",
    "id": "8AqL93ByZ9C1",
    "outputId": "e927706a-58ce-453d-fcfb-a63d60c7b85c"
   },
   "outputs": [
    {
     "data": {
      "text/plain": [
       "XGBClassifier(base_score=0.5, booster=None, bootstrap=True, colsample_bylevel=1,\n",
       "              colsample_bynode=1, colsample_bytree=0.7, gamma=0.1, gpu_id=-1,\n",
       "              importance_type='gain', interaction_constraints=None,\n",
       "              learning_rate=0.3, max_delta_step=0, max_depth=15,\n",
       "              max_features='sqrt', min_child_weight=7, missing=nan,\n",
       "              monotone_constraints=None, n_estimators=100, n_jobs=0,\n",
       "              num_parallel_tree=1, objective='binary:logistic', random_state=0,\n",
       "              reg_alpha=0, reg_lambda=1, scale_pos_weight=1, subsample=1,\n",
       "              tree_method=None, validate_parameters=False, verbosity=None)"
      ]
     },
     "execution_count": 67,
     "metadata": {
      "tags": []
     },
     "output_type": "execute_result"
    }
   ],
   "source": [
    "x# xgb = XGBClassifier(n_estimators=100, \n",
    "#                                bootstrap = True,\n",
    "#                                max_features = 'sqrt',\n",
    "#                                max_depth = 15,\n",
    "#                                min_child_weight = 7,\n",
    "#                                 learning_rate = .3,\n",
    "#                                            gamma = .1,\n",
    "#                                            colsample_bytree = .7)\n",
    "# xgb.fit(sent_vect_train, train['Quality'])"
   ]
  },
  {
   "cell_type": "code",
   "execution_count": 0,
   "metadata": {
    "colab": {},
    "colab_type": "code",
    "id": "ae_nq2GzZ9C5"
   },
   "outputs": [],
   "source": [
    "result = xgb.predict(sent_vect_test)"
   ]
  },
  {
   "cell_type": "code",
   "execution_count": 0,
   "metadata": {
    "colab": {},
    "colab_type": "code",
    "id": "kQ0XZSflZ9C8",
    "outputId": "a78c30f4-805c-4427-ed4e-a0d898827421"
   },
   "outputs": [
    {
     "data": {
      "text/plain": [
       "68.98550724637681"
      ]
     },
     "execution_count": 71,
     "metadata": {
      "tags": []
     },
     "output_type": "execute_result"
    }
   ],
   "source": [
    "gen_accuracy(result, test['Quality'].to_numpy())"
   ]
  },
  {
   "cell_type": "markdown",
   "metadata": {
    "colab_type": "text",
    "id": "GGZy7F5lZ9C_"
   },
   "source": [
    "### Adaboost"
   ]
  },
  {
   "cell_type": "code",
   "execution_count": 0,
   "metadata": {
    "colab": {},
    "colab_type": "code",
    "id": "DpgTS4MqZ9C_"
   },
   "outputs": [],
   "source": [
    "learning_rate = [.001, .01, .1, 1]\n",
    "n_estimators = [200, 300, 400]"
   ]
  },
  {
   "cell_type": "code",
   "execution_count": 0,
   "metadata": {
    "colab": {},
    "colab_type": "code",
    "id": "q9yZz9eLZ9DC"
   },
   "outputs": [],
   "source": [
    "accuracy = []\n",
    "for n_est in n_estimators:\n",
    "    acc = []\n",
    "    for i in learning_rate:\n",
    "        ada = AdaBoostClassifier(n_estimators = n_est, learning_rate = i)\n",
    "        ada.fit(sent_vect_train, train['is_duplicate'])\n",
    "        result_ada = ada.predict(sent_vect_test)\n",
    "        acc.append(gen_accuracy(result_ada, test['is_duplicate'].to_numpy()))\n",
    "    accuracy.append(acc)"
   ]
  },
  {
   "cell_type": "code",
   "execution_count": 0,
   "metadata": {
    "colab": {
     "base_uri": "https://localhost:8080/",
     "height": 70
    },
    "colab_type": "code",
    "id": "vXzGTit8Z9DF",
    "outputId": "7325739e-576a-45fc-83f9-7ef8dbf8b32b"
   },
   "outputs": [
    {
     "data": {
      "text/plain": [
       "[[62.96699382618331, 63.53391641602026, 68.25629254392908, 72.9499762545512],\n",
       " [62.96699382618331, 64.63412220990978, 69.34264682602502, 73.6484882064271],\n",
       " [62.96699382618331, 64.9200569890771, 70.08073452588253, 74.10657748931455]]"
      ]
     },
     "execution_count": 14,
     "metadata": {
      "tags": []
     },
     "output_type": "execute_result"
    }
   ],
   "source": [
    "accuracy"
   ]
  },
  {
   "cell_type": "markdown",
   "metadata": {
    "colab_type": "text",
    "id": "qBkoyuKPZ9DH"
   },
   "source": [
    "### Voting classifier"
   ]
  },
  {
   "cell_type": "code",
   "execution_count": 0,
   "metadata": {
    "colab": {},
    "colab_type": "code",
    "id": "1qXQnzPPZ9DI"
   },
   "outputs": [],
   "source": [
    "xgb = XGBClassifier(max_depth=3,learning_rate=0.01,n_estimators=312)                      \n",
    "\n",
    "ada_boost = AdaBoostClassifier(n_estimators = 400, learning_rate = 1)\n",
    "\n",
    "random_forest = RandomForestClassifier(n_estimators=100, \n",
    "                       bootstrap = True,\n",
    "                       max_features = 'sqrt')\n",
    "lr = LogisticRegression(solver = 'saga', penalty = 'elasticnet', l1_ratio=.5, random_state=0)\n",
    "\n",
    "#rf = random_forest = RandomForestClassifier(n_estimators=100, \n",
    "                      #  bootstrap = True,\n",
    "                      #  max_features = 'sqrt')\n",
    "\n",
    "svm = SVC(probability=True)\n",
    "\n",
    "\n",
    "model = VotingClassifier(estimators=[('logistic', lr), \n",
    "                                     ('ada', ada_boost),\n",
    "                                     ('rf', random_forest),\n",
    "                                     ('xgb', xgb),\n",
    "                                     ('svm', svm)], \n",
    "               voting='soft', weights=[1,1,3,1,1]).fit(sent_vect_train,train['is_duplicate'])\n",
    "result_model = model.predict(sent_vect_test)\n",
    "\n",
    "# acc.append(gen_accuracy(result_model, test['is_duplicate'].to_numpy()))\n",
    "# accuracy.append(acc)\n",
    "\n",
    "acc = accuracy_score(test['is_duplicate'].to_numpy(), result_model)\n",
    "\n"
   ]
  },
  {
   "cell_type": "code",
   "execution_count": 12,
   "metadata": {
    "colab": {
     "base_uri": "https://localhost:8080/",
     "height": 34
    },
    "colab_type": "code",
    "id": "es0_invj4sSq",
    "outputId": "0adeb073-e11c-4ea4-bcae-a947cbbbd04e"
   },
   "outputs": [
    {
     "data": {
      "text/plain": [
       "0.7573242675732427"
      ]
     },
     "execution_count": 12,
     "metadata": {
      "tags": []
     },
     "output_type": "execute_result"
    }
   ],
   "source": [
    "acc"
   ]
  },
  {
   "cell_type": "code",
   "execution_count": 0,
   "metadata": {
    "colab": {},
    "colab_type": "code",
    "id": "CC8hOm2faoOz"
   },
   "outputs": [],
   "source": [
    ""
   ]
  }
 ],
 "metadata": {
  "accelerator": "TPU",
  "colab": {
   "collapsed_sections": [],
   "name": "quora_ml_parameter1.ipynb",
   "provenance": [],
   "toc_visible": true
  },
  "kernelspec": {
   "display_name": "Python 3",
   "language": "python",
   "name": "python3"
  },
  "language_info": {
   "codemirror_mode": {
    "name": "ipython",
    "version": 3
   },
   "file_extension": ".py",
   "mimetype": "text/x-python",
   "name": "python",
   "nbconvert_exporter": "python",
   "pygments_lexer": "ipython3",
   "version": "3.7.7"
  }
 },
 "nbformat": 4,
 "nbformat_minor": 0
}
