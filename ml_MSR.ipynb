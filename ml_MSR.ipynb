{
 "cells": [
  {
   "cell_type": "code",
   "execution_count": 1,
   "metadata": {},
   "outputs": [],
   "source": [
    "#Loading the required libraries\n",
    "import pandas as pd\n",
    "import numpy as np\n",
    "import numpy\n",
    "import csv\n",
    "import sklearn\n",
    "from sklearn.linear_model import LogisticRegression\n",
    "from sklearn.svm import SVC\n",
    "from sklearn.ensemble import RandomForestClassifier, VotingClassifier, AdaBoostClassifier\n",
    "from sklearn.feature_extraction.text import TfidfVectorizer\n",
    "from xgboost import XGBClassifier\n",
    "import models.ml_models as ml_models\n",
    "from sklearn.metrics import precision_score, recall_score, f1_score"
   ]
  },
  {
   "cell_type": "code",
   "execution_count": 2,
   "metadata": {},
   "outputs": [],
   "source": [
    "# Loading the training and testing data\n",
    "train = pd.read_csv(r'Data/msr_paraphrase_train.txt', sep = '\\t', quoting=csv.QUOTE_NONE)\n",
    "test = pd.read_csv(r'Data/msr_paraphrase_test.txt', sep = '\\t', quoting=csv.QUOTE_NONE)"
   ]
  },
  {
   "cell_type": "code",
   "execution_count": 3,
   "metadata": {},
   "outputs": [],
   "source": [
    "def gen_accuracy(y_pred, y_actual):\n",
    "    \"\"\"Function to calculate the accuracy of a model, returns the accuracy\n",
    "        Args: \n",
    "            y_pred: predicted values\n",
    "            y_actual: actual values\"\"\"\n",
    "    \n",
    "    count = 0\n",
    "    for i in range(len(y_pred)):\n",
    "        if y_pred[i] == y_actual[i]:\n",
    "            count = count+1\n",
    "    return (count/len(y_pred))*100"
   ]
  },
  {
   "cell_type": "code",
   "execution_count": 12,
   "metadata": {},
   "outputs": [],
   "source": [
    "def write_csv(result, id_col, path):\n",
    "    result_final = pd.DataFrame(data = list(zip(id_col, result)), columns = ['id', 'prediction'])\n",
    "    result_final.to_csv(path, index = False)"
   ]
  },
  {
   "cell_type": "code",
   "execution_count": 6,
   "metadata": {},
   "outputs": [],
   "source": [
    "#training and testing\n",
    "sent = list(train['#1 String']) + list(train['#2 String']) + list(test['#1 String']) + list(test['#2 String'])\n",
    "\n",
    "vectorizer = TfidfVectorizer(\n",
    "    sublinear_tf=True,\n",
    "    strip_accents='unicode',\n",
    "    analyzer='word',\n",
    "    token_pattern=r'\\w{1,}',\n",
    "    ngram_range=(1, 1),\n",
    "    max_features=30000)\n",
    "\n",
    "vectorizer.fit(sent)\n",
    "\n",
    "train_sent = train['#1 String'] + \" \" + train['#2 String']\n",
    "test_sent = test['#1 String']+ \" \" + test['#2 String']\n",
    "\n",
    "sent_vect_train = vectorizer.transform(train_sent)\n",
    "sent_vect_test = vectorizer.transform(test_sent)"
   ]
  },
  {
   "cell_type": "code",
   "execution_count": 7,
   "metadata": {},
   "outputs": [
    {
     "data": {
      "text/plain": [
       "<module 'models.ml_models' from 'C:\\\\Users\\\\hkpat\\\\Masters\\\\NLP\\\\NLI_project\\\\models\\\\ml_models.py'>"
      ]
     },
     "execution_count": 7,
     "metadata": {},
     "output_type": "execute_result"
    }
   ],
   "source": [
    "from importlib import reload\n",
    "reload(ml_models)"
   ]
  },
  {
   "cell_type": "code",
   "execution_count": 8,
   "metadata": {},
   "outputs": [],
   "source": [
    "ml = ml_models.ml_models(sent_vect_train, train['Quality']) "
   ]
  },
  {
   "cell_type": "markdown",
   "metadata": {},
   "source": [
    "### Logistic regression"
   ]
  },
  {
   "cell_type": "code",
   "execution_count": 9,
   "metadata": {},
   "outputs": [],
   "source": [
    "result_lr = ml.logistic_regression(sent_vect_test)"
   ]
  },
  {
   "cell_type": "code",
   "execution_count": 10,
   "metadata": {},
   "outputs": [
    {
     "data": {
      "text/plain": [
       "67.76811594202898"
      ]
     },
     "execution_count": 10,
     "metadata": {},
     "output_type": "execute_result"
    }
   ],
   "source": [
    "gen_accuracy(result_lr, test['Quality'])"
   ]
  },
  {
   "cell_type": "code",
   "execution_count": 11,
   "metadata": {},
   "outputs": [
    {
     "name": "stdout",
     "output_type": "stream",
     "text": [
      "f1_socre:0.6493869193049334\n",
      "recall_socre:0.6776811594202898\n",
      "precision_socre:0.6520193236714975\n"
     ]
    }
   ],
   "source": [
    "print('f1_socre:' + str(f1_score(test['Quality'], result_lr, average = 'weighted')))\n",
    "print('recall_socre:' + str(recall_score(test['Quality'], result_lr, average = 'weighted')))\n",
    "print('precision_socre:' + str(precision_score(test['Quality'], result_lr, average = 'weighted')))"
   ]
  },
  {
   "cell_type": "code",
   "execution_count": 13,
   "metadata": {},
   "outputs": [],
   "source": [
    "write_csv(result_lr, test['#1 ID'], 'results/machine_learning/MSR/lr.csv')"
   ]
  },
  {
   "cell_type": "markdown",
   "metadata": {},
   "source": [
    "### SVM"
   ]
  },
  {
   "cell_type": "code",
   "execution_count": 14,
   "metadata": {},
   "outputs": [],
   "source": [
    "#SVC\n",
    "result_svc = ml.svm(sent_vect_test)"
   ]
  },
  {
   "cell_type": "code",
   "execution_count": 15,
   "metadata": {},
   "outputs": [
    {
     "data": {
      "text/plain": [
       "70.66666666666667"
      ]
     },
     "execution_count": 15,
     "metadata": {},
     "output_type": "execute_result"
    }
   ],
   "source": [
    "gen_accuracy(result_svc, test['Quality'])"
   ]
  },
  {
   "cell_type": "code",
   "execution_count": 16,
   "metadata": {},
   "outputs": [
    {
     "name": "stdout",
     "output_type": "stream",
     "text": [
      "f1_socre:0.6648984227723238\n",
      "recall_socre:0.7066666666666667\n",
      "precision_socre:0.6937687991021324\n"
     ]
    }
   ],
   "source": [
    "print('f1_socre:' + str(f1_score(test['Quality'], result_svc, average = 'weighted')))\n",
    "print('recall_socre:' + str(recall_score(test['Quality'], result_svc, average = 'weighted')))\n",
    "print('precision_socre:' + str(precision_score(test['Quality'], result_svc, average = 'weighted')))"
   ]
  },
  {
   "cell_type": "code",
   "execution_count": 17,
   "metadata": {},
   "outputs": [],
   "source": [
    "write_csv(result_svc, test['#1 ID'], 'results/machine_learning/MSR/svm.csv')"
   ]
  },
  {
   "cell_type": "markdown",
   "metadata": {},
   "source": [
    "### Random Forest"
   ]
  },
  {
   "cell_type": "code",
   "execution_count": 18,
   "metadata": {},
   "outputs": [],
   "source": [
    "#RF\n",
    "result_rf = ml.random_forest(sent_vect_test)"
   ]
  },
  {
   "cell_type": "code",
   "execution_count": 19,
   "metadata": {},
   "outputs": [
    {
     "data": {
      "text/plain": [
       "70.78260869565217"
      ]
     },
     "execution_count": 19,
     "metadata": {},
     "output_type": "execute_result"
    }
   ],
   "source": [
    "gen_accuracy(result_rf, test['Quality'])"
   ]
  },
  {
   "cell_type": "code",
   "execution_count": 21,
   "metadata": {},
   "outputs": [
    {
     "name": "stdout",
     "output_type": "stream",
     "text": [
      "f1_socre:0.6386685803770947\n",
      "recall_socre:0.7078260869565217\n",
      "precision_socre:0.7307167481146715\n"
     ]
    }
   ],
   "source": [
    "print('f1_socre:' + str(f1_score(test['Quality'], result_rf, average = 'weighted')))\n",
    "print('recall_socre:' + str(recall_score(test['Quality'], result_rf, average = 'weighted')))\n",
    "print('precision_socre:' + str(precision_score(test['Quality'], result_rf, average = 'weighted')))"
   ]
  },
  {
   "cell_type": "code",
   "execution_count": 22,
   "metadata": {},
   "outputs": [],
   "source": [
    "write_csv(result_rf, test['#1 ID'], 'results/machine_learning/MSR/rf.csv')"
   ]
  },
  {
   "cell_type": "markdown",
   "metadata": {},
   "source": [
    "### XG Boost"
   ]
  },
  {
   "cell_type": "code",
   "execution_count": 23,
   "metadata": {},
   "outputs": [],
   "source": [
    "result_xg = ml.xgbclassifier(sent_vect_test)"
   ]
  },
  {
   "cell_type": "code",
   "execution_count": 24,
   "metadata": {},
   "outputs": [
    {
     "data": {
      "text/plain": [
       "69.33333333333334"
      ]
     },
     "execution_count": 24,
     "metadata": {},
     "output_type": "execute_result"
    }
   ],
   "source": [
    "gen_accuracy(result_xg, test['Quality'])"
   ]
  },
  {
   "cell_type": "code",
   "execution_count": 25,
   "metadata": {},
   "outputs": [
    {
     "name": "stdout",
     "output_type": "stream",
     "text": [
      "f1_socre:0.609957824149157\n",
      "recall_socre:0.6933333333333334\n",
      "precision_socre:0.7124641050478957\n"
     ]
    }
   ],
   "source": [
    "print('f1_socre:' + str(f1_score(test['Quality'], result_xg, average = 'weighted')))\n",
    "print('recall_socre:' + str(recall_score(test['Quality'], result_xg, average = 'weighted')))\n",
    "print('precision_socre:' + str(precision_score(test['Quality'], result_xg, average = 'weighted')))"
   ]
  },
  {
   "cell_type": "code",
   "execution_count": 26,
   "metadata": {},
   "outputs": [],
   "source": [
    "write_csv(result_xg, test['#1 ID'], 'results/machine_learning/MSR/xgboost.csv')"
   ]
  },
  {
   "cell_type": "markdown",
   "metadata": {},
   "source": [
    "### Adaboost"
   ]
  },
  {
   "cell_type": "code",
   "execution_count": 27,
   "metadata": {},
   "outputs": [],
   "source": [
    "result_ada = ml.adaboost(sent_vect_test)"
   ]
  },
  {
   "cell_type": "code",
   "execution_count": 28,
   "metadata": {},
   "outputs": [
    {
     "data": {
      "text/plain": [
       "68.81159420289855"
      ]
     },
     "execution_count": 28,
     "metadata": {},
     "output_type": "execute_result"
    }
   ],
   "source": [
    "gen_accuracy(result_ada, test['Quality'])"
   ]
  },
  {
   "cell_type": "code",
   "execution_count": 29,
   "metadata": {},
   "outputs": [
    {
     "name": "stdout",
     "output_type": "stream",
     "text": [
      "f1_socre:0.6001074719302315\n",
      "recall_socre:0.6881159420289855\n",
      "precision_socre:0.701456735911171\n"
     ]
    }
   ],
   "source": [
    "print('f1_socre:' + str(f1_score(test['Quality'], result_ada, average = 'weighted')))\n",
    "print('recall_socre:' + str(recall_score(test['Quality'], result_ada, average = 'weighted')))\n",
    "print('precision_socre:' + str(precision_score(test['Quality'], result_ada, average = 'weighted')))"
   ]
  },
  {
   "cell_type": "code",
   "execution_count": 30,
   "metadata": {},
   "outputs": [],
   "source": [
    "write_csv(result_ada, test['#1 ID'], 'results/machine_learning/MSR/adaboost.csv')"
   ]
  },
  {
   "cell_type": "markdown",
   "metadata": {},
   "source": [
    "### Voting Classifier"
   ]
  },
  {
   "cell_type": "code",
   "execution_count": 31,
   "metadata": {},
   "outputs": [
    {
     "name": "stderr",
     "output_type": "stream",
     "text": [
      "C:\\Users\\hkpat\\Anaconda3\\lib\\site-packages\\sklearn\\linear_model\\_sag.py:330: ConvergenceWarning: The max_iter was reached which means the coef_ did not converge\n",
      "  \"the coef_ did not converge\", ConvergenceWarning)\n"
     ]
    }
   ],
   "source": [
    "result_voting = ml.voting_classifier(sent_vect_test)"
   ]
  },
  {
   "cell_type": "code",
   "execution_count": 32,
   "metadata": {},
   "outputs": [
    {
     "data": {
      "text/plain": [
       "70.20289855072464"
      ]
     },
     "execution_count": 32,
     "metadata": {},
     "output_type": "execute_result"
    }
   ],
   "source": [
    "gen_accuracy(result_voting, test['Quality'])"
   ]
  },
  {
   "cell_type": "code",
   "execution_count": 33,
   "metadata": {},
   "outputs": [
    {
     "name": "stdout",
     "output_type": "stream",
     "text": [
      "f1_socre:0.6271961906851677\n",
      "recall_socre:0.7020289855072464\n",
      "precision_socre:0.7246883056560518\n"
     ]
    }
   ],
   "source": [
    "print('f1_socre:' + str(f1_score(test['Quality'], result_voting, average = 'weighted')))\n",
    "print('recall_socre:' + str(recall_score(test['Quality'], result_voting, average = 'weighted')))\n",
    "print('precision_socre:' + str(precision_score(test['Quality'], result_voting, average = 'weighted')))"
   ]
  },
  {
   "cell_type": "code",
   "execution_count": 34,
   "metadata": {},
   "outputs": [],
   "source": [
    "write_csv(result_voting, test['#1 ID'], 'results/machine_learning/MSR/voting_classifier.csv')"
   ]
  }
 ],
 "metadata": {
  "kernelspec": {
   "display_name": "Python 3",
   "language": "python",
   "name": "python3"
  },
  "language_info": {
   "codemirror_mode": {
    "name": "ipython",
    "version": 3
   },
   "file_extension": ".py",
   "mimetype": "text/x-python",
   "name": "python",
   "nbconvert_exporter": "python",
   "pygments_lexer": "ipython3",
   "version": "3.7.7"
  }
 },
 "nbformat": 4,
 "nbformat_minor": 4
}
