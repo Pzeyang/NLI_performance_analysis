{
 "cells": [
  {
   "cell_type": "code",
   "execution_count": 1,
   "metadata": {},
   "outputs": [],
   "source": [
    "#Loading the required libraries\n",
    "import pandas as pd\n",
    "import numpy as np\n",
    "import numpy\n",
    "import csv\n",
    "import sklearn\n",
    "from sklearn.linear_model import LogisticRegression\n",
    "from sklearn.svm import SVC\n",
    "from sklearn.ensemble import RandomForestClassifier, VotingClassifier, AdaBoostClassifier\n",
    "from sklearn.feature_extraction.text import TfidfVectorizer\n",
    "from xgboost import XGBClassifier\n",
    "import models.ml_models as ml_models\n",
    "from sklearn.metrics import precision_score, recall_score, f1_score"
   ]
  },
  {
   "cell_type": "code",
   "execution_count": 2,
   "metadata": {},
   "outputs": [],
   "source": [
    "#Loading the data\n",
    "df = pd.read_csv('Data/train.csv')\n",
    "df['question1'] = df['question1'].apply(str)\n",
    "df['question2'] = df['question2'].apply(str)\n",
    "df.dropna(inplace = True)\n",
    "#df = df[:30000]"
   ]
  },
  {
   "cell_type": "code",
   "execution_count": 3,
   "metadata": {},
   "outputs": [],
   "source": [
    "#training and testing\n",
    "from sklearn.model_selection import train_test_split\n",
    "seed = 123\n",
    "train, test = train_test_split(df)\n",
    "q = list(train['question1']) + list(train['question2']) + list(test['question1']) + list(test['question2'])"
   ]
  },
  {
   "cell_type": "code",
   "execution_count": 4,
   "metadata": {},
   "outputs": [],
   "source": [
    "def gen_accuracy(y_pred, y_actual):\n",
    "    \"\"\"Function to calculate the accuracy of a model, returns the accuracy\n",
    "        Args: \n",
    "            y_pred: predicted values\n",
    "            y_actual: actual values\"\"\"\n",
    "    \n",
    "    count = 0\n",
    "    for i in range(len(y_pred)):\n",
    "        if y_pred[i] == y_actual[i]:\n",
    "            count = count+1\n",
    "    return (count/len(y_pred))*100"
   ]
  },
  {
   "cell_type": "code",
   "execution_count": 5,
   "metadata": {},
   "outputs": [],
   "source": [
    "#training and testing\n",
    "sent = list(train['question1']) + list(train['question2']) + list(test['question1']) + list(test['question2'])\n",
    "\n",
    "vectorizer = TfidfVectorizer(\n",
    "    sublinear_tf=True,\n",
    "    strip_accents='unicode',\n",
    "    analyzer='word',\n",
    "    token_pattern=r'\\w{1,}',\n",
    "    ngram_range=(1, 1),\n",
    "    max_features=30000)\n",
    "\n",
    "vectorizer.fit(sent)\n",
    "\n",
    "train_sent = train['question2'] + \" \" + train['question1']\n",
    "test_sent = test['question1']+ \" \" + test['question2']\n",
    "\n",
    "sent_vect_train = vectorizer.transform(train_sent)\n",
    "sent_vect_test = vectorizer.transform(test_sent)"
   ]
  },
  {
   "cell_type": "code",
   "execution_count": 8,
   "metadata": {},
   "outputs": [
    {
     "data": {
      "text/plain": [
       "<module 'models.ml_models' from 'C:\\\\Users\\\\hkpat\\\\Masters\\\\NLP\\\\NLI_project\\\\models\\\\ml_models.py'>"
      ]
     },
     "execution_count": 8,
     "metadata": {},
     "output_type": "execute_result"
    }
   ],
   "source": [
    "from importlib import reload\n",
    "reload(ml_models)"
   ]
  },
  {
   "cell_type": "code",
   "execution_count": 9,
   "metadata": {},
   "outputs": [],
   "source": [
    "ml = ml_models.ml_models(sent_vect_train, train['is_duplicate']) "
   ]
  },
  {
   "cell_type": "markdown",
   "metadata": {},
   "source": [
    "### Logistic regression"
   ]
  },
  {
   "cell_type": "code",
   "execution_count": 10,
   "metadata": {},
   "outputs": [],
   "source": [
    "result_lr = ml.logistic_regression(sent_vect_test)"
   ]
  },
  {
   "cell_type": "code",
   "execution_count": 11,
   "metadata": {},
   "outputs": [
    {
     "data": {
      "text/plain": [
       "array([0, 0, 1, ..., 0, 0, 0], dtype=int64)"
      ]
     },
     "execution_count": 11,
     "metadata": {},
     "output_type": "execute_result"
    }
   ],
   "source": [
    "result_lr"
   ]
  },
  {
   "cell_type": "code",
   "execution_count": 12,
   "metadata": {},
   "outputs": [
    {
     "data": {
      "text/plain": [
       "76.91371582915319"
      ]
     },
     "execution_count": 12,
     "metadata": {},
     "output_type": "execute_result"
    }
   ],
   "source": [
    "gen_accuracy(result_lr, test['is_duplicate'].to_numpy())"
   ]
  },
  {
   "cell_type": "code",
   "execution_count": 13,
   "metadata": {},
   "outputs": [
    {
     "name": "stdout",
     "output_type": "stream",
     "text": [
      "f1_socre:0.7663579349632655\n",
      "recall_socre:0.7691371582915318\n",
      "precision_socre:0.7658356373356363\n"
     ]
    }
   ],
   "source": [
    "print('f1_socre:' + str(f1_score(test['is_duplicate'], result_lr, average = 'weighted')))\n",
    "print('recall_socre:' + str(recall_score(test['is_duplicate'], result_lr, average = 'weighted')))\n",
    "print('precision_socre:' + str(precision_score(test['is_duplicate'], result_lr, average = 'weighted')))"
   ]
  },
  {
   "cell_type": "markdown",
   "metadata": {},
   "source": [
    "### SVM"
   ]
  },
  {
   "cell_type": "code",
   "execution_count": 32,
   "metadata": {},
   "outputs": [],
   "source": [
    "#SVC\n",
    "result_svc = ml.svm(sent_vect_test)"
   ]
  },
  {
   "cell_type": "code",
   "execution_count": 33,
   "metadata": {},
   "outputs": [
    {
     "data": {
      "text/plain": [
       "70.66666666666667"
      ]
     },
     "execution_count": 33,
     "metadata": {},
     "output_type": "execute_result"
    }
   ],
   "source": [
    "gen_accuracy(result_svc, test['Quality'])"
   ]
  },
  {
   "cell_type": "code",
   "execution_count": 36,
   "metadata": {},
   "outputs": [
    {
     "name": "stdout",
     "output_type": "stream",
     "text": [
      "f1_socre:0.6648984227723238\n",
      "recall_socre:0.7066666666666667\n",
      "precision_socre:0.6937687991021324\n"
     ]
    }
   ],
   "source": [
    "print('f1_socre:' + str(f1_score(test['Quality'], result_svc, average = 'weighted')))\n",
    "print('recall_socre:' + str(recall_score(test['Quality'], result_svc, average = 'weighted')))\n",
    "print('precision_socre:' + str(precision_score(test['Quality'], result_svc, average = 'weighted')))"
   ]
  },
  {
   "cell_type": "markdown",
   "metadata": {},
   "source": [
    "### Random Forest"
   ]
  },
  {
   "cell_type": "code",
   "execution_count": 20,
   "metadata": {},
   "outputs": [],
   "source": [
    "#RF\n",
    "result_rf = ml.random_forest(sent_vect_test, max_depth=100, n_estimators=400)"
   ]
  },
  {
   "cell_type": "code",
   "execution_count": 23,
   "metadata": {
    "scrolled": true
   },
   "outputs": [
    {
     "data": {
      "text/plain": [
       "81.33527252579819"
      ]
     },
     "execution_count": 23,
     "metadata": {},
     "output_type": "execute_result"
    }
   ],
   "source": [
    "gen_accuracy(result_rf, test['is_duplicate'].to_numpy())"
   ]
  },
  {
   "cell_type": "code",
   "execution_count": 25,
   "metadata": {},
   "outputs": [
    {
     "name": "stdout",
     "output_type": "stream",
     "text": [
      "f1_socre:0.8074898342401919\n",
      "recall_socre:0.8133527252579819\n",
      "precision_socre:0.8136139803947952\n"
     ]
    }
   ],
   "source": [
    "print('f1_socre:' + str(f1_score(test['is_duplicate'], result_rf, average = 'weighted')))\n",
    "print('recall_socre:' + str(recall_score(test['is_duplicate'], result_rf, average = 'weighted')))\n",
    "print('precision_socre:' + str(precision_score(test['is_duplicate'], result_rf, average = 'weighted')))"
   ]
  },
  {
   "cell_type": "markdown",
   "metadata": {},
   "source": [
    "### XG Boost"
   ]
  },
  {
   "cell_type": "code",
   "execution_count": 26,
   "metadata": {},
   "outputs": [],
   "source": [
    "result_xg = ml.xgbclassifier(sent_vect_test, learning_rate = 1)"
   ]
  },
  {
   "cell_type": "code",
   "execution_count": 28,
   "metadata": {},
   "outputs": [
    {
     "data": {
      "text/plain": [
       "76.89392815094041"
      ]
     },
     "execution_count": 28,
     "metadata": {},
     "output_type": "execute_result"
    }
   ],
   "source": [
    "gen_accuracy(result_xg, test['is_duplicate'].to_numpy())"
   ]
  },
  {
   "cell_type": "code",
   "execution_count": 29,
   "metadata": {},
   "outputs": [
    {
     "name": "stdout",
     "output_type": "stream",
     "text": [
      "f1_socre:0.7647417270803679\n",
      "recall_socre:0.768939281509404\n",
      "precision_socre:0.764988861129378\n"
     ]
    }
   ],
   "source": [
    "print('f1_socre:' + str(f1_score(test['is_duplicate'], result_xg, average = 'weighted')))\n",
    "print('recall_socre:' + str(recall_score(test['is_duplicate'], result_xg, average = 'weighted')))\n",
    "print('precision_socre:' + str(precision_score(test['is_duplicate'], result_xg, average = 'weighted')))"
   ]
  },
  {
   "cell_type": "markdown",
   "metadata": {},
   "source": [
    "### Adaboost"
   ]
  },
  {
   "cell_type": "code",
   "execution_count": 30,
   "metadata": {},
   "outputs": [],
   "source": [
    "result_ada = ml.adaboost(sent_vect_test, n_estimators=400, learning_rate=1)"
   ]
  },
  {
   "cell_type": "code",
   "execution_count": 32,
   "metadata": {},
   "outputs": [
    {
     "data": {
      "text/plain": [
       "74.12563196897291"
      ]
     },
     "execution_count": 32,
     "metadata": {},
     "output_type": "execute_result"
    }
   ],
   "source": [
    "gen_accuracy(result_ada, test['is_duplicate'].to_numpy())"
   ]
  },
  {
   "cell_type": "code",
   "execution_count": 33,
   "metadata": {},
   "outputs": [
    {
     "name": "stdout",
     "output_type": "stream",
     "text": [
      "f1_socre:0.7325606018746793\n",
      "recall_socre:0.7412563196897292\n",
      "precision_socre:0.7355763708732987\n"
     ]
    }
   ],
   "source": [
    "print('f1_socre:' + str(f1_score(test['is_duplicate'], result_ada, average = 'weighted')))\n",
    "print('recall_socre:' + str(recall_score(test['is_duplicate'], result_ada, average = 'weighted')))\n",
    "print('precision_socre:' + str(precision_score(test['is_duplicate'], result_ada, average = 'weighted')))"
   ]
  },
  {
   "cell_type": "markdown",
   "metadata": {},
   "source": [
    "### Voting Classifier"
   ]
  },
  {
   "cell_type": "code",
   "execution_count": 4,
   "metadata": {},
   "outputs": [],
   "source": [
    "result_voting = ml.voting_classifier(sent_vect_test)"
   ]
  },
  {
   "cell_type": "code",
   "execution_count": 5,
   "metadata": {},
   "outputs": [],
   "source": [
    "gen_accuracy(result_voting, test['is_duplicate'].to_numpy())"
   ]
  },
  {
   "cell_type": "code",
   "execution_count": 6,
   "metadata": {},
   "outputs": [],
   "source": [
    "print('f1_socre:' + str(f1_score(test['is_duplicate'], result_voting, average = 'weighted')))\n",
    "print('recall_socre:' + str(recall_score(test['is_duplicate'], result_voting, average = 'weighted')))\n",
    "print('precision_socre:' + str(precision_score(test['is_duplicate'], result_voting, average = 'weighted')))"
   ]
  }
 ],
 "metadata": {
  "kernelspec": {
   "display_name": "Python 3",
   "language": "python",
   "name": "python3"
  },
  "language_info": {
   "codemirror_mode": {
    "name": "ipython",
    "version": 3
   },
   "file_extension": ".py",
   "mimetype": "text/x-python",
   "name": "python",
   "nbconvert_exporter": "python",
   "pygments_lexer": "ipython3",
   "version": "3.7.7"
  }
 },
 "nbformat": 4,
 "nbformat_minor": 4
}
